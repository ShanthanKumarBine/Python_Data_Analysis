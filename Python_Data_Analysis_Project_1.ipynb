{
 "cells": [
  {
   "cell_type": "markdown",
   "id": "f61a7a1b",
   "metadata": {},
   "source": [
    "### Description\n",
    "In this project, we will be analyzing a dataset of online retail sales using Pandas, NumPy, and Matplotlib in Python. Will be performing several data manipulation, visualization, and statistical analysis tasks using Python libraries.\n"
   ]
  },
  {
   "cell_type": "markdown",
   "id": "6aa20cc7",
   "metadata": {},
   "source": [
    "### Dataset\n",
    "The dataset you will be using is called \"Online Retail\" and can be downloaded from the UCI Machine Learning Repository at the following URL:\n",
    "https://archive.ics.uci.edu/ml/datasets/online+retail\n",
    "This dataset contains transactional data from a UK-based online retailer between 01/12/2010 and 09/12/2011. The dataset includes over 500,000 transactions and 8 columns, including customer ID, product ID, quantity, and price. The Dataset is going to be attached to canvas as well.\n",
    "#### The dataset is a large dataset and depending on your hardware capability it may take up to 5 minutes to load the data into your notebook."
   ]
  },
  {
   "cell_type": "markdown",
   "id": "2e6cca7d",
   "metadata": {},
   "source": [
    "# Import libraries"
   ]
  },
  {
   "cell_type": "code",
   "execution_count": 98,
   "id": "283cc419",
   "metadata": {},
   "outputs": [],
   "source": [
    "import pandas as pd\n",
    "import numpy as np\n",
    "import matplotlib.pyplot as plt"
   ]
  },
  {
   "cell_type": "markdown",
   "id": "4debfd1d",
   "metadata": {},
   "source": [
    "This code imports pandas, Numpy and Matplotlib libraries."
   ]
  },
  {
   "cell_type": "markdown",
   "id": "b14d7f76",
   "metadata": {},
   "source": [
    "# Load the dataset\n",
    "You can use below syntax to import CSV file: \n",
    "df = pd.read_excel('C:/Users/downloads/online retail.xlsx')  "
   ]
  },
  {
   "cell_type": "code",
   "execution_count": 80,
   "id": "790c183d",
   "metadata": {},
   "outputs": [],
   "source": [
    "df = pd.read_excel('C:/Users/Shant/Downloads/online Retail (1).xlsx')"
   ]
  },
  {
   "cell_type": "markdown",
   "id": "e55e84bc",
   "metadata": {},
   "source": [
    "# Task 1: Clean the dataset\n",
    "#### Drop missing values and filter the \"Quantity\" and \"UnitPrice\" columns for values greater than 0.\n",
    "#### You can use this syntax to filter your dataset (df = df[df[\"Quantity\"] > 0])"
   ]
  },
  {
   "cell_type": "code",
   "execution_count": 81,
   "id": "2e512e40",
   "metadata": {},
   "outputs": [],
   "source": [
    "df = df.dropna() "
   ]
  },
  {
   "cell_type": "markdown",
   "id": "11ae570a",
   "metadata": {},
   "source": [
    "This code will drop all rows that have missing values in any column."
   ]
  },
  {
   "cell_type": "code",
   "execution_count": 82,
   "id": "12cf4996",
   "metadata": {},
   "outputs": [],
   "source": [
    "df = df[(df[\"Quantity\"] > 0) & (df[\"UnitPrice\"] > 0)]   "
   ]
  },
  {
   "cell_type": "markdown",
   "id": "e778cdb9",
   "metadata": {},
   "source": [
    "This code drops all rows with missing values and filters the remaining rows to include only those with positive values for both \"Quantity\" and \"UnitPrice\" columns. "
   ]
  },
  {
   "cell_type": "markdown",
   "id": "a58fd736",
   "metadata": {},
   "source": [
    "# Task 2: Group the data by customer ID and calculate the total amount spent by each customer. \n",
    "### To do this task you need to first add a column to your dataframe and calculate the \"TotalPrice\" by multiplying \"Quantity\" and \"UnitPrice\" columns. then you can Group them by using the below syntax : \n",
    "customer_spending = df.groupby(\"CustomerID\")[\"TotalPrice\"].sum()"
   ]
  },
  {
   "cell_type": "code",
   "execution_count": 83,
   "id": "7ccc5f5c",
   "metadata": {},
   "outputs": [],
   "source": [
    "df[\"TotalPrice\"] = df[\"Quantity\"] * df[\"UnitPrice\"]"
   ]
  },
  {
   "cell_type": "markdown",
   "id": "faab0841",
   "metadata": {},
   "source": [
    "This code will Add TotalPrice column by multiplying Quantity and UnitPrice."
   ]
  },
  {
   "cell_type": "code",
   "execution_count": 84,
   "id": "7b811bc3",
   "metadata": {},
   "outputs": [],
   "source": [
    "customer_spending = df.groupby(\"CustomerID\")[\"TotalPrice\"].sum()"
   ]
  },
  {
   "cell_type": "markdown",
   "id": "f9c1d857",
   "metadata": {},
   "source": [
    "This code will Group the data by CustomerID and calculate total amount spent by each customer."
   ]
  },
  {
   "cell_type": "markdown",
   "id": "bb224c87",
   "metadata": {},
   "source": [
    "# Task 3: Calculate the mean, median, and standard deviation of the total amount spent by customers."
   ]
  },
  {
   "cell_type": "code",
   "execution_count": 85,
   "id": "ab8cb270",
   "metadata": {},
   "outputs": [],
   "source": [
    "mean_spending = customer_spending.mean()"
   ]
  },
  {
   "cell_type": "code",
   "execution_count": 92,
   "id": "f7d957a4",
   "metadata": {},
   "outputs": [
    {
     "name": "stdout",
     "output_type": "stream",
     "text": [
      "2054.2664601198735\n"
     ]
    }
   ],
   "source": [
    "print(mean_spending)"
   ]
  },
  {
   "cell_type": "markdown",
   "id": "9dd3d05d",
   "metadata": {},
   "source": [
    "This code will caluclate the mean. The mean of the total amount spent by customer us 2054.2664......"
   ]
  },
  {
   "cell_type": "code",
   "execution_count": 86,
   "id": "48768301",
   "metadata": {},
   "outputs": [],
   "source": [
    "median_spending = customer_spending.median()"
   ]
  },
  {
   "cell_type": "code",
   "execution_count": 94,
   "id": "f0798fec",
   "metadata": {},
   "outputs": [
    {
     "name": "stdout",
     "output_type": "stream",
     "text": [
      "674.485\n"
     ]
    }
   ],
   "source": [
    "print(median_spending)"
   ]
  },
  {
   "cell_type": "markdown",
   "id": "74c39f7e",
   "metadata": {},
   "source": [
    "This code will calculate the median. The median of the total amount spent by customers is 674.485"
   ]
  },
  {
   "cell_type": "code",
   "execution_count": 96,
   "id": "cd7c6e64",
   "metadata": {},
   "outputs": [],
   "source": [
    "std_spending = customer_spending.std()"
   ]
  },
  {
   "cell_type": "code",
   "execution_count": 97,
   "id": "7fd2318a",
   "metadata": {},
   "outputs": [
    {
     "name": "stdout",
     "output_type": "stream",
     "text": [
      "8989.230441338677\n"
     ]
    }
   ],
   "source": [
    "print(std_spending)"
   ]
  },
  {
   "cell_type": "markdown",
   "id": "34b9daad",
   "metadata": {},
   "source": [
    "This code will calculate the standard deviation of the total amount spent by customers i.e....8989.230441338677"
   ]
  },
  {
   "cell_type": "markdown",
   "id": "220c7515",
   "metadata": {},
   "source": [
    "# Task 4: Visualize the distribution of the total amount spent by customers using a histogram created with Matplotlib."
   ]
  },
  {
   "cell_type": "code",
   "execution_count": 88,
   "id": "9a63e10f",
   "metadata": {},
   "outputs": [
    {
     "data": {
      "image/png": "[encoded data removed]",
      "text/plain": [
       "<Figure size 640x480 with 1 Axes>"
      ]
     },
     "metadata": {},
     "output_type": "display_data"
    }
   ],
   "source": [
    "plt.hist(customer_spending, bins=50)\n",
    "plt.title(\"Distribution of Total Amount Spent by Customers\")\n",
    "plt.xlabel(\"Total Amount Spent\")\n",
    "plt.ylabel(\"Number of Customers\")\n",
    "plt.show()"
   ]
  },
  {
   "cell_type": "markdown",
   "id": "0a7a40c6",
   "metadata": {},
   "source": [
    "-- This code will create a Histogram. \n",
    "1. The first argument passed to the function is the data that is being plotted, which in this case is the customer_spending variable. The second argument, bins, specifies the number of bins to use for the histogram. The larger the number of bins, the more detailed the histogram will be.\n",
    "2. The second line in the code is used to give a title.\n",
    "3. Third line is for X axis title.\n",
    "4. Fourth line is for Y axis title.\n",
    "5. Fifth line to display the plot."
   ]
  },
  {
   "cell_type": "markdown",
   "id": "93626fd1",
   "metadata": {},
   "source": [
    "# Task 5: Group the data by product ID and calculate the total quantity sold for each product.\n",
    "Use the same syntax for grouping your data from task 2"
   ]
  },
  {
   "cell_type": "code",
   "execution_count": 89,
   "id": "d518a856",
   "metadata": {},
   "outputs": [],
   "source": [
    "product_quantity = df.groupby(\"StockCode\")[\"Quantity\"].sum()"
   ]
  },
  {
   "cell_type": "markdown",
   "id": "3a5639c2",
   "metadata": {},
   "source": [
    "This code groups the data by the \"StockCode\" column and calculates the sum of the \"Quantity\" column for each group, which represents the total quantity sold for each product."
   ]
  },
  {
   "cell_type": "code",
   "execution_count": 90,
   "id": "d016c9f1",
   "metadata": {},
   "outputs": [
    {
     "name": "stdout",
     "output_type": "stream",
     "text": [
      "StockCode\n",
      "10002     823\n",
      "10080     291\n",
      "10120     193\n",
      "10125    1226\n",
      "10133    2384\n",
      "         ... \n",
      "C2        134\n",
      "DOT        16\n",
      "M        7173\n",
      "PADS        3\n",
      "POST     3120\n",
      "Name: Quantity, Length: 3665, dtype: int64\n"
     ]
    }
   ],
   "source": [
    "print(product_quantity)"
   ]
  },
  {
   "cell_type": "markdown",
   "id": "589e7cc7",
   "metadata": {},
   "source": [
    "This code will print out a Series object with the total quantity sold for each product."
   ]
  }
 ],
 "metadata": {
  "kernelspec": {
   "display_name": "Python 3 (ipykernel)",
   "language": "python",
   "name": "python3"
  },
  "language_info": {
   "codemirror_mode": {
    "name": "ipython",
    "version": 3
   },
   "file_extension": ".py",
   "mimetype": "text/x-python",
   "name": "python",
   "nbconvert_exporter": "python",
   "pygments_lexer": "ipython3",
   "version": "3.9.13"
  }
 },
 "nbformat": 4,
 "nbformat_minor": 5
}
